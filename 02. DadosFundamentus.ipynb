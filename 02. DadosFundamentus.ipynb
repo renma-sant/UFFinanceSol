{
 "cells": [
  {
   "cell_type": "markdown",
   "metadata": {},
   "source": [
    "# Biblotecas"
   ]
  },
  {
   "cell_type": "code",
   "execution_count": 1,
   "metadata": {},
   "outputs": [],
   "source": [
    "from selenium import webdriver\n",
    "from selenium.webdriver.chrome.service import Service\n",
    "from webdriver_manager.chrome import ChromeDriverManager\n",
    "import pandas as pd"
   ]
  },
  {
   "cell_type": "markdown",
   "metadata": {},
   "source": [
    "# Entradas"
   ]
  },
  {
   "cell_type": "code",
   "execution_count": 2,
   "metadata": {},
   "outputs": [],
   "source": [
    "acoesBrTreinee = pd.read_csv('AT_BR.txt')\n",
    "\n",
    "acoesBrTreinee['AT_BR'] = acoesBrTreinee['AT_BR'].str.replace('.SA', '')\n",
    "\n",
    "filtrarIndicadores = acoesBrTreinee['AT_BR'].values"
   ]
  },
  {
   "cell_type": "markdown",
   "metadata": {},
   "source": [
    "# Automação"
   ]
  },
  {
   "cell_type": "code",
   "execution_count": 3,
   "metadata": {},
   "outputs": [
    {
     "name": "stderr",
     "output_type": "stream",
     "text": [
      "C:\\Users\\RENAN\\AppData\\Local\\Temp\\ipykernel_1840\\863914393.py:13: FutureWarning: Passing literal html to 'read_html' is deprecated and will be removed in a future version. To read from a literal string, wrap it in a 'StringIO' object.\n",
      "  tabelaFundamentus = pd.read_html(str(html_tabela), thousands = '.', decimal = ',')[0]\n"
     ]
    }
   ],
   "source": [
    "driver = webdriver.Chrome(service=Service(ChromeDriverManager().install()))\n",
    "\n",
    "url = 'https://www.fundamentus.com.br/resultado.php'\n",
    "\n",
    "driver.get(url)\n",
    "\n",
    "local_tabela = '/html/body/div[1]/div[2]/table'\n",
    "\n",
    "elemento = driver.find_element(\"xpath\", local_tabela)\n",
    "\n",
    "html_tabela = elemento.get_attribute('outerHTML')\n",
    "\n",
    "tabelaFundamentus = pd.read_html(str(html_tabela), thousands = '.', decimal = ',')[0]"
   ]
  },
  {
   "cell_type": "code",
   "execution_count": 6,
   "metadata": {},
   "outputs": [],
   "source": [
    "tabelaFundamentus.columns = ['Ticker', 'Cotacao', 'P/L', 'P/VP', 'Price_to_Sale_Ratio', 'Dividend Yield (%)',\n",
    "                             'P/Ativo', 'P/Capital_de_Giro', 'P/EBIT', 'P/Ativo_Circulante_Liquido',\n",
    "                             'EV/EBIT', 'EV/EBITDA', 'Margem_EBIT (%)', 'Margem_Liquida (%)', 'Liquidez_Corrente',\n",
    "                             'ROIC (%)', 'ROE (%)', 'Liquidez_2meses', 'Patrimonio_Liquido', 'DividaBruta/Patrimonio',\n",
    "                             'Cresc. Rec.5a (%)']"
   ]
  },
  {
   "cell_type": "markdown",
   "metadata": {},
   "source": [
    "# Validar e Exportar"
   ]
  },
  {
   "cell_type": "code",
   "execution_count": 7,
   "metadata": {},
   "outputs": [
    {
     "name": "stdout",
     "output_type": "stream",
     "text": [
      "Na dinâmica temos 56 ações ou ETF's brasileiras compráveis.\n"
     ]
    }
   ],
   "source": [
    "qtdeAcoesTreinee = len(filtrarIndicadores)\n",
    "\n",
    "print('Na dinâmica temos {} ações ou ETF\\'s brasileiras compráveis.'.format(qtdeAcoesTreinee))"
   ]
  },
  {
   "cell_type": "code",
   "execution_count": 8,
   "metadata": {},
   "outputs": [
    {
     "name": "stdout",
     "output_type": "stream",
     "text": [
      "Se filtrarmos as ações da tabela do Fundamentus com as ações, pecebemos que há 48 ações contempladas.\n",
      "Assim, percebo que faltam 8 Tickers que não encontro dados pela raspagem de dados.\n"
     ]
    }
   ],
   "source": [
    "tabelaFundamentus = tabelaFundamentus[tabelaFundamentus['Ticker'].isin(filtrarIndicadores)]\n",
    "\n",
    "qtde_acoes_fundamentus = tabelaFundamentus.shape[0]\n",
    "\n",
    "print('Se filtrarmos as ações da tabela do Fundamentus com as ações, pecebemos que há {} ações contempladas.'.format(qtde_acoes_fundamentus))\n",
    "print('Assim, percebo que faltam {} Tickers que não encontro dados pela raspagem de dados.'.format(qtdeAcoesTreinee - qtde_acoes_fundamentus))"
   ]
  },
  {
   "cell_type": "code",
   "execution_count": 9,
   "metadata": {},
   "outputs": [
    {
     "name": "stdout",
     "output_type": "stream",
     "text": [
      "De todos os dados da tabela do Fundamentus, as seguintes empresas não tem dados: 'AGRI11', 'B5P211', 'BCSA34', 'IB5M11', 'IMAB11', 'IRFM11', 'MELI34', 'ROXO34'.\n",
      "Assim, devemos buscar essas individualente caso adotemos a escolha para compor a carteira.\n",
      "Uma observação pertinente é que esse código é uma automação para caso a gente tenha que olhar os indicadores fundamentalistas das nossas opções.\n",
      "Inclusive, isso tudo é só para ter uma ideia, porque os dados podem estar desatualizados.\n"
     ]
    }
   ],
   "source": [
    "acoesEncontradas = list(tabelaFundamentus['Ticker'].values)\n",
    "\n",
    "acoesPerdidas = []\n",
    "\n",
    "for acaoFiltrada in filtrarIndicadores:\n",
    "    if acaoFiltrada in acoesEncontradas:\n",
    "        pass\n",
    "    else:\n",
    "        acoesPerdidas.append(acaoFiltrada)\n",
    "\n",
    "acoesPerdidas =  str(acoesPerdidas).replace('[','').replace(']','')\n",
    "\n",
    "print('De todos os dados da tabela do Fundamentus, as seguintes empresas não tem dados: {}.'.format(acoesPerdidas))\n",
    "print('Assim, devemos buscar essas individualente caso adotemos a escolha para compor a carteira.')\n",
    "print('Uma observação pertinente é que esse código é uma automação para caso a gente tenha que olhar os indicadores fundamentalistas das nossas opções.')\n",
    "print('Inclusive, isso tudo é só para ter uma ideia, porque os dados podem estar desatualizados.')"
   ]
  },
  {
   "cell_type": "code",
   "execution_count": 10,
   "metadata": {},
   "outputs": [],
   "source": [
    "tabelaFundamentus.to_excel('DadosFundamentus.xlsx', index=False)"
   ]
  }
 ],
 "metadata": {
  "kernelspec": {
   "display_name": "Python 3",
   "language": "python",
   "name": "python3"
  },
  "language_info": {
   "codemirror_mode": {
    "name": "ipython",
    "version": 3
   },
   "file_extension": ".py",
   "mimetype": "text/x-python",
   "name": "python",
   "nbconvert_exporter": "python",
   "pygments_lexer": "ipython3",
   "version": "3.12.2"
  }
 },
 "nbformat": 4,
 "nbformat_minor": 2
}
